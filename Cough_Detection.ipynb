{
  "nbformat": 4,
  "nbformat_minor": 0,
  "metadata": {
    "colab": {
      "name": "Cough Detection.ipynb",
      "provenance": [],
      "collapsed_sections": [],
      "authorship_tag": "ABX9TyNLz0OimGqvy8q3Z0rsqRuF",
      "include_colab_link": true
    },
    "kernelspec": {
      "name": "python3",
      "display_name": "Python 3"
    },
    "accelerator": "GPU"
  },
  "cells": [
    {
      "cell_type": "markdown",
      "metadata": {
        "id": "view-in-github",
        "colab_type": "text"
      },
      "source": [
        "<a href=\"https://colab.research.google.com/github/MohamedAfham/COVID-19-Cough-Detection/blob/master/Cough_Detection.ipynb\" target=\"_parent\"><img src=\"https://colab.research.google.com/assets/colab-badge.svg\" alt=\"Open In Colab\"/></a>"
      ]
    },
    {
      "cell_type": "code",
      "metadata": {
        "id": "6_i65i3x8XwN",
        "colab_type": "code",
        "colab": {
          "base_uri": "https://localhost:8080/",
          "height": 88
        },
        "outputId": "aee840cd-79fc-454f-b697-674cd4706632"
      },
      "source": [
        "import librosa\n",
        "import matplotlib.pyplot as plt\n",
        "from IPython.display import Audio\n",
        "from librosa import display\n",
        "import numpy as np\n",
        "import scipy\n",
        "import seaborn as sns\n",
        "import random\n",
        "import cv2 as cv\n",
        "import math\n",
        "\n",
        "import tensorflow as tf\n",
        "import keras\n",
        "from sklearn.metrics import confusion_matrix, classification_report\n",
        "from keras import Sequential\n",
        "from keras.layers import Dense, Dropout, Flatten,BatchNormalization\n",
        "from keras.layers import Conv2D, MaxPooling2D, Activation\n",
        "from keras.models import load_model\n",
        "from keras.layers.advanced_activations import LeakyReLU\n",
        "from keras.callbacks.callbacks import ModelCheckpoint, EarlyStopping, LearningRateScheduler"
      ],
      "execution_count": 1,
      "outputs": [
        {
          "output_type": "stream",
          "text": [
            "/usr/local/lib/python3.6/dist-packages/statsmodels/tools/_testing.py:19: FutureWarning: pandas.util.testing is deprecated. Use the functions in the public API at pandas.testing instead.\n",
            "  import pandas.util.testing as tm\n",
            "Using TensorFlow backend.\n"
          ],
          "name": "stderr"
        }
      ]
    },
    {
      "cell_type": "code",
      "metadata": {
        "id": "2ebPsz_78aGK",
        "colab_type": "code",
        "outputId": "9614d776-6aaa-4abc-a8d0-fd9684b5b798",
        "colab": {
          "base_uri": "https://localhost:8080/",
          "height": 122
        }
      },
      "source": [
        "from google.colab import drive \n",
        "drive.mount('/content/gdrive')"
      ],
      "execution_count": 2,
      "outputs": [
        {
          "output_type": "stream",
          "text": [
            "Go to this URL in a browser: https://accounts.google.com/o/oauth2/auth?client_id=947318989803-6bn6qk8qdgf4n4g3pfee6491hc0brc4i.apps.googleusercontent.com&redirect_uri=urn%3aietf%3awg%3aoauth%3a2.0%3aoob&response_type=code&scope=email%20https%3a%2f%2fwww.googleapis.com%2fauth%2fdocs.test%20https%3a%2f%2fwww.googleapis.com%2fauth%2fdrive%20https%3a%2f%2fwww.googleapis.com%2fauth%2fdrive.photos.readonly%20https%3a%2f%2fwww.googleapis.com%2fauth%2fpeopleapi.readonly\n",
            "\n",
            "Enter your authorization code:\n",
            "··········\n",
            "Mounted at /content/gdrive\n"
          ],
          "name": "stdout"
        }
      ]
    },
    {
      "cell_type": "code",
      "metadata": {
        "id": "tr44hQsMQUpP",
        "colab_type": "code",
        "colab": {}
      },
      "source": [
        "def read_audio(audio_directory,audio_file):\n",
        "  global sampling_rate\n",
        "  audio,sampling_rate = librosa.load(audio_directory+audio_file)\n",
        "  return (audio,sampling_rate)\n",
        "\n",
        "def volume_aug(audio):\n",
        "  factor_list = [0.5,1,1.5,2]\n",
        "  factor = factor_list[np.random.randint(0,4)]\n",
        "  augmented_samples = audio * factor\n",
        "  return augmented_samples\n",
        "\n",
        "def bg_noise_aug(audio,bg_noise):\n",
        "  length = len(audio)\n",
        "  rand_start = np.random.randint(0,len(bg_noise)- length)\n",
        "  augmented_audio = audio + bg_noise[rand_start:rand_start + length]\n",
        "  return augmented_audio\n",
        "\n",
        "def melspectrogram(audio):  #no of mels means no of mel filters\n",
        "    #samples, sampling_rate = librosa.core.load(directory + audio_file)   #loading data set\n",
        "    samples = audio\n",
        "    frame_size = 0.025\n",
        "    frame_stride = frame_size * 0.7\n",
        "    no_of_mels = 128\n",
        "    frame_length, frame_step = frame_size * sampling_rate, frame_stride * sampling_rate  \n",
        "    frame_length = int(round(frame_length))\n",
        "    frame_step = int(round(frame_step))\n",
        "    samples_length = len(samples)\n",
        "    num_frames = int(np.ceil(float(np.abs(samples_length - frame_length)) / frame_step))\n",
        "\n",
        "    pad_samples_length = num_frames * frame_step + frame_length\n",
        "    z = np.zeros((pad_samples_length - samples_length))\n",
        "    pad_samples = np.append(samples, z)  #zero padding\n",
        "       \n",
        "    spect_samples = np.abs(librosa.stft(pad_samples, n_fft=frame_length, hop_length=frame_step, window=np.hamming(frame_length))) #calculating stft \n",
        "    spect_samples = librosa.amplitude_to_db(spect_samples, ref=np.max)\n",
        "    mel_filter = librosa.filters.mel(sampling_rate, frame_length, n_mels=128, fmin=0, fmax=None)  #calculating mel filter array\n",
        "    \n",
        "    mel_spect_samples = np.dot(mel_filter, spect_samples)   #calculating mel spectrogram\n",
        "    spectrum = mel_spect_samples.ravel().reshape(128,287,1)\n",
        "    #spectrum = mel_spect_samples\n",
        "    return spectrum\n",
        "\n",
        "def normalize_spectrum(spectrum):\n",
        "  return (spectrum - np.mean(spectrum))/np.std(spectrum)"
      ],
      "execution_count": 0,
      "outputs": []
    },
    {
      "cell_type": "code",
      "metadata": {
        "id": "C-cMnhpfoNkV",
        "colab_type": "code",
        "colab": {}
      },
      "source": [
        "cough_audio = np.load('gdrive/My Drive/Cough Detection/Numpy Arrays/cough_audio.npy').tolist()\n",
        "cough_audio = [np.array(xi) for xi in cough_audio]\n",
        "\n",
        "station_audio = np.load('gdrive/My Drive/Cough Detection/Numpy Arrays/station_audio.npy').tolist()\n",
        "station_audio = [np.array(xi) for xi in station_audio]\n",
        "\n",
        "neighbor_audio = np.load('gdrive/My Drive/Cough Detection/Numpy Arrays/neighbor_audio.npy').tolist()\n",
        "neighbor_audio = [np.array(xi) for xi in neighbor_audio]\n",
        "\n",
        "metro_audio = np.load('gdrive/My Drive/Cough Detection/Numpy Arrays/metro_audio.npy').tolist()\n",
        "metro_audio = [np.array(xi) for xi in metro_audio]\n",
        "\n",
        "laugh_audio = np.load('gdrive/My Drive/Cough Detection/Numpy Arrays/laugh_audio.npy').tolist()\n",
        "laugh_audio = [np.array(xi) for xi in laugh_audio]\n",
        "\n",
        "hall_audio = np.load('gdrive/My Drive/Cough Detection/Numpy Arrays/hall_audio.npy').tolist()\n",
        "hall_audio = [np.array(xi) for xi in hall_audio]\n",
        "\n",
        "footstep_audio = np.load('gdrive/My Drive/Cough Detection/Numpy Arrays/footstep_audio.npy').tolist()\n",
        "footstep_audio = [np.array(xi) for xi in footstep_audio]\n",
        "\n",
        "airport_audio = np.load('gdrive/My Drive/Cough Detection/Numpy Arrays/airport_audio.npy').tolist()\n",
        "airport_audio = [np.array(xi) for xi in airport_audio]\n",
        "\n",
        "sneezing_audio = np.load('gdrive/My Drive/Cough Detection/Numpy Arrays/sneezing_audio.npy').tolist()\n",
        "sneezing_audio = [np.array(xi) for xi in sneezing_audio]\n",
        "\n",
        "snoring_audio = np.load('gdrive/My Drive/Cough Detection/Numpy Arrays/snoring_audio.npy').tolist()\n",
        "snoring_audio = [np.array(xi) for xi in snoring_audio]\n",
        "\n",
        "breathe_audio = np.load('gdrive/My Drive/Cough Detection/Numpy Arrays/breathe_audio.npy').tolist()\n",
        "breathe_audio = [np.array(xi) for xi in breathe_audio]\n",
        "\n",
        "crying_audio = np.load('gdrive/My Drive/Cough Detection/Numpy Arrays/crying_audio.npy').tolist()\n",
        "crying_audio = [np.array(xi) for xi in crying_audio]\n",
        "\n",
        "cough_audio_train = np.load('gdrive/My Drive/Cough Detection/Numpy Arrays/cough_audio_train.npy').tolist()\n",
        "cough_audio_train = [np.array(xi) for xi in cough_audio_train]"
      ],
      "execution_count": 0,
      "outputs": []
    },
    {
      "cell_type": "code",
      "metadata": {
        "id": "IpT9ZAQzcWIU",
        "colab_type": "code",
        "colab": {}
      },
      "source": [
        "non_cough_audio = station_audio + neighbor_audio + laugh_audio + hall_audio + footstep_audio + airport_audio + sneezing_audio + snoring_audio + crying_audio\n",
        "test_non_cough_audio = breathe_audio + metro_audio"
      ],
      "execution_count": 0,
      "outputs": []
    },
    {
      "cell_type": "code",
      "metadata": {
        "id": "1wAc65FDdquC",
        "colab_type": "code",
        "colab": {}
      },
      "source": [
        "bg_noise_dir = ['Station.wav','NeighbourSpeaking.wav','Metro.wav','Hallway.wav','FootSteps.wav','AirportAnnouncements.wav']\n",
        "audio_directory = 'gdrive/My Drive/Cough Detection/Sounds/Background Noise/'\n",
        "bg_noise_list = []\n",
        "for noise in range(len(bg_noise_dir)):\n",
        "  audio_file = bg_noise_dir[noise]\n",
        "  noise_add = read_audio(audio_directory,audio_file)[0]\n",
        "  bg_noise_list.append(noise_add)\n"
      ],
      "execution_count": 0,
      "outputs": []
    },
    {
      "cell_type": "code",
      "metadata": {
        "id": "hs52ZIAsZqdq",
        "colab_type": "code",
        "colab": {}
      },
      "source": [
        "train_val_cough = []\n",
        "test_cough = []\n",
        "\n",
        "random.shuffle(cough_audio)\n",
        "test_cough += cough_audio[:25]\n",
        "train_val_cough += cough_audio[25:]\n",
        "\n",
        "random.shuffle(cough_audio_train)\n",
        "test_cough += cough_audio_train[:68]\n",
        "train_val_cough += cough_audio_train[68:]"
      ],
      "execution_count": 0,
      "outputs": []
    },
    {
      "cell_type": "code",
      "metadata": {
        "id": "0NHAC1wXhYsK",
        "colab_type": "code",
        "colab": {}
      },
      "source": [
        "random.shuffle(train_val_cough)\n",
        "train_cough,val_cough = train_val_cough[:int(len(train_val_cough)*0.8)], train_val_cough[int(len(train_val_cough)*0.8):]\n",
        "\n",
        "random.shuffle(non_cough_audio)\n",
        "train_non_cough,val_non_cough = non_cough_audio[:int(len(non_cough_audio)*0.8)], non_cough_audio[int(len(non_cough_audio)*0.8):]\n",
        "\n",
        "train_files = [train_non_cough, train_cough]\n",
        "val_files = [val_non_cough, val_cough]"
      ],
      "execution_count": 0,
      "outputs": []
    },
    {
      "cell_type": "markdown",
      "metadata": {
        "id": "TCyCUrbIGAmr",
        "colab_type": "text"
      },
      "source": [
        "**For the arrays with augmentation model.fit_generator() function**"
      ]
    },
    {
      "cell_type": "code",
      "metadata": {
        "id": "tEbDMeXQ70LN",
        "colab_type": "code",
        "outputId": "c58aecbe-b400-4f65-c6ae-e977060d466b",
        "colab": {
          "base_uri": "https://localhost:8080/",
          "height": 1000
        }
      },
      "source": [
        "def generator(batch_size, is_train):\n",
        "  if is_train:\n",
        "    audio = train_files\n",
        "  else:\n",
        "    audio = val_files\n",
        "\n",
        "  while True:\n",
        "    batch_features = np.zeros((batch_size,128,287,1))\n",
        "    batch_labels = np.zeros((batch_size,1))\n",
        "    rand_list = [[],[]]\n",
        "    for n in range(batch_size):\n",
        "      while True:\n",
        "        label = np.random.randint(0,2)\n",
        "        rand_num = random.randrange(len(audio[label]))\n",
        "        if rand_num not in rand_list[label]:\n",
        "          rand_list[label].append(rand_num)\n",
        "          selected_audio = audio[label][rand_num]\n",
        "          volume_aug_audio = volume_aug(selected_audio)\n",
        "          rand_noise = random.randrange(len(bg_noise_list))\n",
        "          bg_noise = bg_noise_list[rand_noise]\n",
        "          bg_noise_added = bg_noise_aug(volume_aug_audio,bg_noise)\n",
        "          spectrum = melspectrogram(bg_noise_added)\n",
        "          batch_features[n] = normalize_spectrum(spectrum)\n",
        "          batch_labels[n] = label\n",
        "          break\n",
        "\n",
        "    yield batch_features,batch_labels\n",
        "\n",
        "#Callbacks\n",
        "trained_model_path_Adam = 'gdrive/My Drive/Cough Detection/Pre trained Models/model-github-Adam.h5'\n",
        "checkpoint_Adam = ModelCheckpoint(trained_model_path_Adam, \n",
        "                             monitor='val_accuracy', \n",
        "                             save_best_only=True, \n",
        "                             mode='max', \n",
        "                             period=1)\n",
        "\n",
        "trained_model_path_SGD = 'gdrive/My Drive/Cough Detection/Pre trained Models/model-github-SGD.h5'\n",
        "checkpoint_SGD = ModelCheckpoint(trained_model_path_SGD, \n",
        "                             monitor='val_accuracy', \n",
        "                             save_best_only=True, \n",
        "                             mode='max', \n",
        "                             period=1)\n",
        "\n",
        "early_stop = EarlyStopping(monitor='val_accuracy', \n",
        "                           min_delta=0.001, \n",
        "                           patience=30, \n",
        "                           mode='max',\n",
        "                           restore_best_weights=False)\n",
        "\n",
        "def exp_decay(Epoch,learning_rate):\n",
        "  decay = 0.1\n",
        "  lrate = learning_rate * math.exp(-decay * Epoch)\n",
        "  return lrate\n",
        "\n",
        "lr_scheduler = LearningRateScheduler(exp_decay)\n",
        "\n",
        "#Model \n",
        "\n",
        "shape = (128,287,1)\n",
        "model = Sequential()\n",
        "\n",
        "#Layer 1 \n",
        "model.add(MaxPooling2D(pool_size=(2,2),input_shape=shape,name='MaxPooling2D_1'))\n",
        "model.add(Conv2D(32, kernel_size=(5,5),padding='same'))\n",
        "model.add(BatchNormalization())\n",
        "model.add(LeakyReLU(alpha=0.1))\n",
        "model.add(MaxPooling2D(pool_size=(4,4)))\n",
        "\n",
        "#Layer 2\n",
        "model.add(Conv2D(64, kernel_size=(5,5),padding='same',name='Conv2D_2'))\n",
        "model.add(BatchNormalization())\n",
        "model.add(LeakyReLU(alpha=0.1))\n",
        "model.add(MaxPooling2D(pool_size=(2,2),name='MaxPooling2D_3'))\n",
        "\n",
        "model.add(Flatten(name = 'Flatten'))\n",
        "\n",
        "#Layer 3\n",
        "#model.add(Dense(256,name = 'Dense_1'))\n",
        "#model.add(BatchNormalization(name = 'BatchNormalization_2'))\n",
        "#model.add(LeakyReLU(alpha=0.1))\n",
        "#model.add(Dropout(0.5,name = 'Dropout_1'))\n",
        "\n",
        "#Layer 4\n",
        "model.add(Dense(128,name = 'Dense_2'))\n",
        "model.add(BatchNormalization(name = 'BatchNormalization_3'))\n",
        "model.add(LeakyReLU(alpha=0.1))\n",
        "#model.add(Dropout(0.5,name = 'Dropout_2'))\n",
        "\n",
        "#Layer 5\n",
        "model.add(Dense(64,name = 'Dense_3'))\n",
        "model.add(BatchNormalization(name = 'BatchNormalization_4'))\n",
        "model.add(LeakyReLU(alpha=0.1))\n",
        "#model.add(Dropout(0.5,name = 'Dropout_3'))\n",
        "\n",
        "model.add(Dense(1,activation='sigmoid',name = 'Dense_4'))\n",
        "\n",
        "adam = keras.optimizers.Adam(learning_rate = 1e-3, beta_1=0.9, beta_2=0.999, amsgrad=False)\n",
        "\n",
        "model.compile(optimizer= adam, loss='binary_crossentropy', metrics=['accuracy'])\n",
        "batch_size = 12\n",
        "history = model.fit_generator(generator(batch_size,True), epochs=150,steps_per_epoch=50, validation_data=generator(batch_size,False),validation_steps=12,callbacks = [checkpoint_Adam,lr_scheduler,early_stop])"
      ],
      "execution_count": 10,
      "outputs": [
        {
          "output_type": "stream",
          "text": [
            "Epoch 1/150\n",
            "50/50 [==============================] - 16s 317ms/step - loss: 0.3754 - accuracy: 0.8483 - val_loss: 0.3221 - val_accuracy: 0.8264\n",
            "Epoch 2/150\n",
            "50/50 [==============================] - 10s 209ms/step - loss: 0.3341 - accuracy: 0.8700 - val_loss: 0.6573 - val_accuracy: 0.5208\n",
            "Epoch 3/150\n",
            "50/50 [==============================] - 11s 216ms/step - loss: 0.2343 - accuracy: 0.9117 - val_loss: 1.8055 - val_accuracy: 0.4167\n",
            "Epoch 4/150\n",
            "50/50 [==============================] - 11s 217ms/step - loss: 0.2038 - accuracy: 0.9300 - val_loss: 1.0077 - val_accuracy: 0.5556\n",
            "Epoch 5/150\n",
            "50/50 [==============================] - 11s 213ms/step - loss: 0.1741 - accuracy: 0.9367 - val_loss: 2.2073 - val_accuracy: 0.5625\n",
            "Epoch 6/150\n",
            "50/50 [==============================] - 11s 213ms/step - loss: 0.1461 - accuracy: 0.9467 - val_loss: 2.9349 - val_accuracy: 0.5139\n",
            "Epoch 7/150\n",
            "50/50 [==============================] - 11s 217ms/step - loss: 0.1109 - accuracy: 0.9583 - val_loss: 1.6066 - val_accuracy: 0.5417\n",
            "Epoch 8/150\n",
            "50/50 [==============================] - 11s 218ms/step - loss: 0.0888 - accuracy: 0.9733 - val_loss: 0.5413 - val_accuracy: 0.6944\n",
            "Epoch 9/150\n",
            "50/50 [==============================] - 11s 219ms/step - loss: 0.1340 - accuracy: 0.9533 - val_loss: 0.6288 - val_accuracy: 0.8264\n",
            "Epoch 10/150\n",
            "50/50 [==============================] - 11s 219ms/step - loss: 0.1567 - accuracy: 0.9517 - val_loss: 0.6703 - val_accuracy: 0.8403\n",
            "Epoch 11/150\n",
            "50/50 [==============================] - 11s 215ms/step - loss: 0.1111 - accuracy: 0.9650 - val_loss: 0.0929 - val_accuracy: 0.9236\n",
            "Epoch 12/150\n",
            "50/50 [==============================] - 11s 215ms/step - loss: 0.0876 - accuracy: 0.9700 - val_loss: 0.4031 - val_accuracy: 0.8819\n",
            "Epoch 13/150\n",
            "50/50 [==============================] - 11s 211ms/step - loss: 0.1168 - accuracy: 0.9600 - val_loss: 0.0920 - val_accuracy: 0.9167\n",
            "Epoch 14/150\n",
            "50/50 [==============================] - 11s 213ms/step - loss: 0.1255 - accuracy: 0.9533 - val_loss: 0.0441 - val_accuracy: 0.9444\n",
            "Epoch 15/150\n",
            "50/50 [==============================] - 11s 213ms/step - loss: 0.1137 - accuracy: 0.9600 - val_loss: 0.0218 - val_accuracy: 0.9306\n",
            "Epoch 16/150\n",
            "50/50 [==============================] - 11s 214ms/step - loss: 0.1194 - accuracy: 0.9583 - val_loss: 0.0690 - val_accuracy: 0.9514\n",
            "Epoch 17/150\n",
            "50/50 [==============================] - 11s 216ms/step - loss: 0.1031 - accuracy: 0.9633 - val_loss: 0.2344 - val_accuracy: 0.9722\n",
            "Epoch 18/150\n",
            "50/50 [==============================] - 11s 230ms/step - loss: 0.1178 - accuracy: 0.9650 - val_loss: 0.1082 - val_accuracy: 0.9444\n",
            "Epoch 19/150\n",
            "50/50 [==============================] - 11s 219ms/step - loss: 0.1328 - accuracy: 0.9567 - val_loss: 0.0403 - val_accuracy: 0.9236\n",
            "Epoch 20/150\n",
            "50/50 [==============================] - 11s 223ms/step - loss: 0.1115 - accuracy: 0.9733 - val_loss: 0.0610 - val_accuracy: 0.9583\n",
            "Epoch 21/150\n",
            "50/50 [==============================] - 11s 223ms/step - loss: 0.1070 - accuracy: 0.9633 - val_loss: 0.1005 - val_accuracy: 0.9444\n",
            "Epoch 22/150\n",
            "50/50 [==============================] - 11s 224ms/step - loss: 0.1108 - accuracy: 0.9683 - val_loss: 0.5667 - val_accuracy: 0.8889\n",
            "Epoch 23/150\n",
            "50/50 [==============================] - 11s 227ms/step - loss: 0.1336 - accuracy: 0.9583 - val_loss: 0.0926 - val_accuracy: 0.9653\n",
            "Epoch 24/150\n",
            "50/50 [==============================] - 11s 216ms/step - loss: 0.0984 - accuracy: 0.9717 - val_loss: 0.3120 - val_accuracy: 0.9097\n",
            "Epoch 25/150\n",
            "50/50 [==============================] - 11s 221ms/step - loss: 0.1026 - accuracy: 0.9667 - val_loss: 0.2313 - val_accuracy: 0.8958\n",
            "Epoch 26/150\n",
            "50/50 [==============================] - 11s 219ms/step - loss: 0.1062 - accuracy: 0.9717 - val_loss: 0.1909 - val_accuracy: 0.9444\n",
            "Epoch 27/150\n",
            "50/50 [==============================] - 11s 216ms/step - loss: 0.1016 - accuracy: 0.9650 - val_loss: 0.0614 - val_accuracy: 0.9514\n",
            "Epoch 28/150\n",
            "50/50 [==============================] - 11s 217ms/step - loss: 0.1335 - accuracy: 0.9583 - val_loss: 0.2639 - val_accuracy: 0.9236\n",
            "Epoch 29/150\n",
            "50/50 [==============================] - 11s 221ms/step - loss: 0.0915 - accuracy: 0.9733 - val_loss: 0.1789 - val_accuracy: 0.9514\n",
            "Epoch 30/150\n",
            "50/50 [==============================] - 11s 217ms/step - loss: 0.1279 - accuracy: 0.9583 - val_loss: 0.1719 - val_accuracy: 0.9375\n",
            "Epoch 31/150\n",
            "50/50 [==============================] - 11s 216ms/step - loss: 0.0966 - accuracy: 0.9633 - val_loss: 0.3586 - val_accuracy: 0.9306\n",
            "Epoch 32/150\n",
            "50/50 [==============================] - 11s 223ms/step - loss: 0.1295 - accuracy: 0.9583 - val_loss: 0.0428 - val_accuracy: 0.9444\n",
            "Epoch 33/150\n",
            "50/50 [==============================] - 11s 218ms/step - loss: 0.1309 - accuracy: 0.9583 - val_loss: 0.1426 - val_accuracy: 0.9028\n",
            "Epoch 34/150\n",
            "50/50 [==============================] - 11s 218ms/step - loss: 0.0974 - accuracy: 0.9667 - val_loss: 0.2653 - val_accuracy: 0.9444\n",
            "Epoch 35/150\n",
            "50/50 [==============================] - 11s 219ms/step - loss: 0.1057 - accuracy: 0.9700 - val_loss: 0.0750 - val_accuracy: 0.9167\n",
            "Epoch 36/150\n",
            "50/50 [==============================] - 11s 221ms/step - loss: 0.1102 - accuracy: 0.9733 - val_loss: 0.1002 - val_accuracy: 0.9722\n",
            "Epoch 37/150\n",
            "50/50 [==============================] - 11s 223ms/step - loss: 0.1223 - accuracy: 0.9600 - val_loss: 0.2416 - val_accuracy: 0.8958\n",
            "Epoch 38/150\n",
            "50/50 [==============================] - 11s 223ms/step - loss: 0.0936 - accuracy: 0.9733 - val_loss: 0.2671 - val_accuracy: 0.9306\n",
            "Epoch 39/150\n",
            "50/50 [==============================] - 11s 216ms/step - loss: 0.1440 - accuracy: 0.9600 - val_loss: 0.2723 - val_accuracy: 0.9444\n",
            "Epoch 40/150\n",
            "50/50 [==============================] - 11s 219ms/step - loss: 0.1161 - accuracy: 0.9583 - val_loss: 0.0210 - val_accuracy: 0.9583\n",
            "Epoch 41/150\n",
            "50/50 [==============================] - 11s 220ms/step - loss: 0.0987 - accuracy: 0.9700 - val_loss: 0.0773 - val_accuracy: 0.9236\n",
            "Epoch 42/150\n",
            "50/50 [==============================] - 11s 213ms/step - loss: 0.0942 - accuracy: 0.9733 - val_loss: 0.1403 - val_accuracy: 0.9583\n",
            "Epoch 43/150\n",
            "50/50 [==============================] - 11s 218ms/step - loss: 0.0965 - accuracy: 0.9633 - val_loss: 0.1518 - val_accuracy: 0.9514\n",
            "Epoch 44/150\n",
            "50/50 [==============================] - 11s 220ms/step - loss: 0.0992 - accuracy: 0.9650 - val_loss: 0.0166 - val_accuracy: 0.9722\n",
            "Epoch 45/150\n",
            "50/50 [==============================] - 11s 210ms/step - loss: 0.1082 - accuracy: 0.9717 - val_loss: 0.3309 - val_accuracy: 0.9306\n",
            "Epoch 46/150\n",
            "50/50 [==============================] - 11s 212ms/step - loss: 0.0866 - accuracy: 0.9783 - val_loss: 0.2649 - val_accuracy: 0.8889\n",
            "Epoch 47/150\n",
            "50/50 [==============================] - 11s 214ms/step - loss: 0.1359 - accuracy: 0.9517 - val_loss: 0.2329 - val_accuracy: 0.9097\n"
          ],
          "name": "stdout"
        }
      ]
    },
    {
      "cell_type": "code",
      "metadata": {
        "id": "kELqt5w7TQxh",
        "colab_type": "code",
        "colab": {
          "base_uri": "https://localhost:8080/",
          "height": 1000
        },
        "outputId": "bebe5881-7a3c-4e7f-cda7-aee0950b836f"
      },
      "source": [
        "model_cont = keras.models.load_model('gdrive/My Drive/Cough Detection/Pre trained Models/model-github-Adam.h5')\n",
        "\n",
        "sgd = keras.optimizers.SGD(learning_rate=0.001, momentum=0.95, nesterov=False)\n",
        "model_cont.compile(optimizer= sgd, loss='binary_crossentropy', metrics=['accuracy'])\n",
        "batch_size = 12\n",
        "history = model_cont.fit_generator(generator(batch_size,True), epochs=150,steps_per_epoch=50, validation_data=generator(batch_size,False),validation_steps=12,callbacks = [checkpoint_SGD,lr_scheduler,early_stop])"
      ],
      "execution_count": 14,
      "outputs": [
        {
          "output_type": "stream",
          "text": [
            "Epoch 1/150\n",
            "50/50 [==============================] - 11s 222ms/step - loss: 0.1468 - accuracy: 0.9550 - val_loss: 0.4947 - val_accuracy: 0.9097\n",
            "Epoch 2/150\n",
            "50/50 [==============================] - 10s 208ms/step - loss: 0.1300 - accuracy: 0.9483 - val_loss: 0.3749 - val_accuracy: 0.8681\n",
            "Epoch 3/150\n",
            "50/50 [==============================] - 10s 205ms/step - loss: 0.1357 - accuracy: 0.9600 - val_loss: 0.1271 - val_accuracy: 0.7153\n",
            "Epoch 4/150\n",
            "50/50 [==============================] - 11s 210ms/step - loss: 0.1397 - accuracy: 0.9533 - val_loss: 0.2342 - val_accuracy: 0.9306\n",
            "Epoch 5/150\n",
            "50/50 [==============================] - 11s 212ms/step - loss: 0.1669 - accuracy: 0.9550 - val_loss: 0.4638 - val_accuracy: 0.9306\n",
            "Epoch 6/150\n",
            "50/50 [==============================] - 11s 213ms/step - loss: 0.0777 - accuracy: 0.9833 - val_loss: 0.0091 - val_accuracy: 0.8958\n",
            "Epoch 7/150\n",
            "50/50 [==============================] - 10s 207ms/step - loss: 0.1046 - accuracy: 0.9617 - val_loss: 0.2660 - val_accuracy: 0.9028\n",
            "Epoch 8/150\n",
            "50/50 [==============================] - 10s 209ms/step - loss: 0.0772 - accuracy: 0.9767 - val_loss: 0.0382 - val_accuracy: 0.9444\n",
            "Epoch 9/150\n",
            "50/50 [==============================] - 11s 210ms/step - loss: 0.0984 - accuracy: 0.9733 - val_loss: 0.2902 - val_accuracy: 0.9167\n",
            "Epoch 10/150\n",
            "50/50 [==============================] - 10s 209ms/step - loss: 0.1025 - accuracy: 0.9750 - val_loss: 0.0739 - val_accuracy: 0.9444\n",
            "Epoch 11/150\n",
            "50/50 [==============================] - 11s 213ms/step - loss: 0.0849 - accuracy: 0.9767 - val_loss: 0.3027 - val_accuracy: 0.9028\n",
            "Epoch 12/150\n",
            "50/50 [==============================] - 11s 213ms/step - loss: 0.1032 - accuracy: 0.9717 - val_loss: 0.0541 - val_accuracy: 0.9444\n",
            "Epoch 13/150\n",
            "50/50 [==============================] - 11s 210ms/step - loss: 0.0890 - accuracy: 0.9783 - val_loss: 0.0176 - val_accuracy: 0.9236\n",
            "Epoch 14/150\n",
            "50/50 [==============================] - 10s 209ms/step - loss: 0.0887 - accuracy: 0.9733 - val_loss: 0.1706 - val_accuracy: 0.9514\n",
            "Epoch 15/150\n",
            "50/50 [==============================] - 10s 208ms/step - loss: 0.1031 - accuracy: 0.9667 - val_loss: 0.4441 - val_accuracy: 0.9306\n",
            "Epoch 16/150\n",
            "50/50 [==============================] - 10s 209ms/step - loss: 0.0928 - accuracy: 0.9767 - val_loss: 0.0512 - val_accuracy: 0.9722\n",
            "Epoch 17/150\n",
            "50/50 [==============================] - 10s 208ms/step - loss: 0.0921 - accuracy: 0.9750 - val_loss: 0.1185 - val_accuracy: 0.9722\n",
            "Epoch 18/150\n",
            "50/50 [==============================] - 10s 209ms/step - loss: 0.1225 - accuracy: 0.9533 - val_loss: 0.2825 - val_accuracy: 0.9167\n",
            "Epoch 19/150\n",
            "50/50 [==============================] - 11s 211ms/step - loss: 0.1007 - accuracy: 0.9633 - val_loss: 0.0974 - val_accuracy: 0.9306\n",
            "Epoch 20/150\n",
            "50/50 [==============================] - 11s 211ms/step - loss: 0.0911 - accuracy: 0.9750 - val_loss: 0.3694 - val_accuracy: 0.9167\n",
            "Epoch 21/150\n",
            "50/50 [==============================] - 11s 215ms/step - loss: 0.1264 - accuracy: 0.9567 - val_loss: 0.2130 - val_accuracy: 0.9306\n",
            "Epoch 22/150\n",
            "50/50 [==============================] - 10s 208ms/step - loss: 0.1252 - accuracy: 0.9583 - val_loss: 0.3081 - val_accuracy: 0.9097\n",
            "Epoch 23/150\n",
            "50/50 [==============================] - 10s 210ms/step - loss: 0.0787 - accuracy: 0.9750 - val_loss: 0.0855 - val_accuracy: 0.9236\n",
            "Epoch 24/150\n",
            "50/50 [==============================] - 11s 214ms/step - loss: 0.0773 - accuracy: 0.9833 - val_loss: 0.0682 - val_accuracy: 0.9444\n",
            "Epoch 25/150\n",
            "50/50 [==============================] - 10s 210ms/step - loss: 0.1172 - accuracy: 0.9617 - val_loss: 0.1092 - val_accuracy: 0.9444\n",
            "Epoch 26/150\n",
            "50/50 [==============================] - 10s 209ms/step - loss: 0.0942 - accuracy: 0.9683 - val_loss: 0.1644 - val_accuracy: 0.9306\n",
            "Epoch 27/150\n",
            "50/50 [==============================] - 11s 213ms/step - loss: 0.0771 - accuracy: 0.9750 - val_loss: 0.5569 - val_accuracy: 0.9306\n",
            "Epoch 28/150\n",
            "50/50 [==============================] - 10s 207ms/step - loss: 0.1098 - accuracy: 0.9650 - val_loss: 0.2154 - val_accuracy: 0.9167\n",
            "Epoch 29/150\n",
            "50/50 [==============================] - 11s 213ms/step - loss: 0.0986 - accuracy: 0.9733 - val_loss: 0.0513 - val_accuracy: 0.9167\n",
            "Epoch 30/150\n",
            "50/50 [==============================] - 11s 211ms/step - loss: 0.1131 - accuracy: 0.9683 - val_loss: 0.0672 - val_accuracy: 0.9514\n",
            "Epoch 31/150\n",
            "50/50 [==============================] - 10s 207ms/step - loss: 0.0915 - accuracy: 0.9750 - val_loss: 0.1023 - val_accuracy: 0.9306\n",
            "Epoch 32/150\n",
            "50/50 [==============================] - 11s 212ms/step - loss: 0.1044 - accuracy: 0.9567 - val_loss: 0.3558 - val_accuracy: 0.9097\n",
            "Epoch 33/150\n",
            "50/50 [==============================] - 11s 213ms/step - loss: 0.0723 - accuracy: 0.9850 - val_loss: 0.0744 - val_accuracy: 0.9306\n",
            "Epoch 34/150\n",
            "50/50 [==============================] - 11s 217ms/step - loss: 0.0864 - accuracy: 0.9783 - val_loss: 0.2630 - val_accuracy: 0.9167\n",
            "Epoch 35/150\n",
            "50/50 [==============================] - 11s 211ms/step - loss: 0.1199 - accuracy: 0.9500 - val_loss: 0.2975 - val_accuracy: 0.9306\n",
            "Epoch 36/150\n",
            "50/50 [==============================] - 11s 221ms/step - loss: 0.1176 - accuracy: 0.9617 - val_loss: 0.5415 - val_accuracy: 0.9306\n",
            "Epoch 37/150\n",
            "50/50 [==============================] - 11s 214ms/step - loss: 0.1312 - accuracy: 0.9500 - val_loss: 0.0793 - val_accuracy: 0.9167\n",
            "Epoch 38/150\n",
            "50/50 [==============================] - 10s 210ms/step - loss: 0.1011 - accuracy: 0.9683 - val_loss: 0.2932 - val_accuracy: 0.9167\n",
            "Epoch 39/150\n",
            "50/50 [==============================] - 11s 214ms/step - loss: 0.0896 - accuracy: 0.9700 - val_loss: 0.0485 - val_accuracy: 0.9306\n",
            "Epoch 40/150\n",
            "50/50 [==============================] - 10s 208ms/step - loss: 0.0965 - accuracy: 0.9717 - val_loss: 0.1221 - val_accuracy: 0.9514\n",
            "Epoch 41/150\n",
            "50/50 [==============================] - 11s 219ms/step - loss: 0.1030 - accuracy: 0.9683 - val_loss: 0.4807 - val_accuracy: 0.9167\n",
            "Epoch 42/150\n",
            "50/50 [==============================] - 10s 208ms/step - loss: 0.1028 - accuracy: 0.9700 - val_loss: 0.2462 - val_accuracy: 0.9514\n",
            "Epoch 43/150\n",
            "50/50 [==============================] - 10s 210ms/step - loss: 0.0769 - accuracy: 0.9783 - val_loss: 0.3780 - val_accuracy: 0.9236\n",
            "Epoch 44/150\n",
            "50/50 [==============================] - 11s 213ms/step - loss: 0.1038 - accuracy: 0.9633 - val_loss: 0.2478 - val_accuracy: 0.9097\n",
            "Epoch 45/150\n",
            "50/50 [==============================] - 10s 208ms/step - loss: 0.1231 - accuracy: 0.9700 - val_loss: 0.3609 - val_accuracy: 0.9306\n",
            "Epoch 46/150\n",
            "50/50 [==============================] - 11s 213ms/step - loss: 0.1407 - accuracy: 0.9583 - val_loss: 0.1403 - val_accuracy: 0.9236\n"
          ],
          "name": "stdout"
        }
      ]
    },
    {
      "cell_type": "code",
      "metadata": {
        "id": "ZZFHLQt8LZIV",
        "colab_type": "code",
        "outputId": "0a2eaf8c-2d3f-400a-a14f-eecc76785ef2",
        "colab": {
          "base_uri": "https://localhost:8080/",
          "height": 295
        }
      },
      "source": [
        "fig ,ax = plt.subplots()\n",
        "ax.plot(history.history['accuracy'])\n",
        "ax.plot(history.history['val_accuracy'])\n",
        "plt.title('Model accuracy')\n",
        "plt.ylabel('Accuracy')\n",
        "plt.xlabel('Epoch')\n",
        "plt.legend(['Train', 'Val'], loc='upper left')\n",
        "plt.show()"
      ],
      "execution_count": 15,
      "outputs": [
        {
          "output_type": "display_data",
          "data": {
            "image/png": "[encoded data removed]",
            "text/plain": [
              "<Figure size 432x288 with 1 Axes>"
            ]
          },
          "metadata": {
            "tags": [],
            "needs_background": "light"
          }
        }
      ]
    },
    {
      "cell_type": "code",
      "metadata": {
        "id": "xjESisUMUFyu",
        "colab_type": "code",
        "outputId": "76caf3b3-b70f-4532-eac5-17b50b131b84",
        "colab": {
          "base_uri": "https://localhost:8080/",
          "height": 295
        }
      },
      "source": [
        "fig ,ax = plt.subplots()\n",
        "plt.plot(history.history['loss'])\n",
        "plt.plot(history.history['val_loss'])\n",
        "plt.title('Model loss')\n",
        "plt.ylabel('Loss')\n",
        "plt.xlabel('Epoch')\n",
        "plt.legend(['Train', 'Val'], loc='upper left')\n",
        "plt.show()"
      ],
      "execution_count": 16,
      "outputs": [
        {
          "output_type": "display_data",
          "data": {
            "image/png": "[encoded data removed]",
            "text/plain": [
              "<Figure size 432x288 with 1 Axes>"
            ]
          },
          "metadata": {
            "tags": [],
            "needs_background": "light"
          }
        }
      ]
    },
    {
      "cell_type": "code",
      "metadata": {
        "id": "uVpEjMO3zgxO",
        "colab_type": "code",
        "colab": {}
      },
      "source": [
        "#Prepare the test data\n",
        "random.shuffle(test_non_cough_audio)\n",
        "test_non_cough = test_non_cough_audio\n",
        "\n",
        "random.shuffle(test_cough)\n",
        "\n",
        "test_data= [test_non_cough,test_cough]"
      ],
      "execution_count": 0,
      "outputs": []
    },
    {
      "cell_type": "code",
      "metadata": {
        "id": "fNwQEGIPryDB",
        "colab_type": "code",
        "outputId": "981119bd-f371-4c52-abf4-c956f28986f0",
        "colab": {
          "base_uri": "https://localhost:8080/",
          "height": 272
        }
      },
      "source": [
        "test_model = load_model('gdrive/My Drive/Cough Detection/Pre trained Models/model-github-Adam.h5')\n",
        "\n",
        "n_input = len(test_data[1]) + len(test_data[0])\n",
        "model_data = np.zeros((n_input,128,287,1))\n",
        "model_label = np.zeros((n_input,1))\n",
        "data_list = [[],[]]\n",
        "\n",
        "for i in range(n_input):\n",
        "  while True:\n",
        "    label = np.random.randint(0,2)\n",
        "    rand_num = random.randrange(len(test_data[label]))\n",
        "    if rand_num not in data_list[label]:\n",
        "      data_list[label].append(rand_num)\n",
        "      selected_audio = test_data[label][rand_num]\n",
        "      volume_aug_audio = volume_aug(selected_audio)\n",
        "      rand_noise = random.randrange(len(bg_noise_list))\n",
        "      bg_noise = bg_noise_list[rand_noise]\n",
        "      bg_noise_added = bg_noise_aug(volume_aug_audio,bg_noise)\n",
        "      spectrum = melspectrogram(bg_noise_added)\n",
        "      model_data[i] = normalize_spectrum(spectrum)\n",
        "      model_label[i] = label\n",
        "      break\n",
        "\n",
        "\n",
        "model.compile(optimizer='adam', loss='binary_crossentropy', metrics=['accuracy'])\n",
        "\n",
        "pred = model.predict(x = model_data,batch_size = n_input)\n",
        "print (model.evaluate(x = model_data, y = model_label,batch_size=n_input))\n",
        "preds = np.array([int(np.round(pred[i])) for i in range(len(pred))])\n",
        "\n",
        "print (confusion_matrix(model_label,preds))\n",
        "print ('\\n')\n",
        "print (classification_report(model_label,preds))"
      ],
      "execution_count": 19,
      "outputs": [
        {
          "output_type": "stream",
          "text": [
            "\r186/186 [==============================] - 0s 739us/step\n",
            "[0.1343965083360672, 0.9516128897666931]\n",
            "[[91  2]\n",
            " [ 7 86]]\n",
            "\n",
            "\n",
            "              precision    recall  f1-score   support\n",
            "\n",
            "         0.0       0.93      0.98      0.95        93\n",
            "         1.0       0.98      0.92      0.95        93\n",
            "\n",
            "    accuracy                           0.95       186\n",
            "   macro avg       0.95      0.95      0.95       186\n",
            "weighted avg       0.95      0.95      0.95       186\n",
            "\n"
          ],
          "name": "stdout"
        }
      ]
    },
    {
      "cell_type": "code",
      "metadata": {
        "id": "d5vWFgi-ATRy",
        "colab_type": "code",
        "colab": {}
      },
      "source": [
        ""
      ],
      "execution_count": 0,
      "outputs": []
    }
  ]
}