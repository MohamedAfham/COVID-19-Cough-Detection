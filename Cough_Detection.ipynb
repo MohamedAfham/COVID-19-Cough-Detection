{
  "nbformat": 4,
  "nbformat_minor": 0,
  "metadata": {
    "colab": {
      "name": "Cough Detection.ipynb",
      "provenance": [],
      "collapsed_sections": [],
      "authorship_tag": "ABX9TyPO8hV6OsPpJLrBfik2yjSq",
      "include_colab_link": true
    },
    "kernelspec": {
      "name": "python3",
      "display_name": "Python 3"
    },
    "accelerator": "GPU"
  },
  "cells": [
    {
      "cell_type": "markdown",
      "metadata": {
        "id": "view-in-github",
        "colab_type": "text"
      },
      "source": [
        "<a href=\"https://colab.research.google.com/github/MohamedAfham/COVID-19-Cough-Detection/blob/master/Cough_Detection.ipynb\" target=\"_parent\"><img src=\"https://colab.research.google.com/assets/colab-badge.svg\" alt=\"Open In Colab\"/></a>"
      ]
    },
    {
      "cell_type": "code",
      "metadata": {
        "id": "6_i65i3x8XwN",
        "colab_type": "code",
        "colab": {}
      },
      "source": [
        "import librosa\n",
        "import matplotlib.pyplot as plt\n",
        "from IPython.display import Audio\n",
        "from librosa import display\n",
        "import numpy as np\n",
        "import scipy\n",
        "import seaborn as sns\n",
        "import random\n",
        "import cv2 as cv\n",
        "import math\n",
        "\n",
        "import tensorflow as tf\n",
        "import keras\n",
        "from sklearn.metrics import confusion_matrix, classification_report\n",
        "from keras import Sequential\n",
        "from keras.layers import Dense, Dropout, Flatten,BatchNormalization\n",
        "from keras.layers import Conv2D, MaxPooling2D, Activation\n",
        "from keras.models import load_model\n",
        "from keras.layers.advanced_activations import LeakyReLU\n",
        "from keras.callbacks.callbacks import ModelCheckpoint, EarlyStopping, LearningRateScheduler"
      ],
      "execution_count": 0,
      "outputs": []
    },
    {
      "cell_type": "code",
      "metadata": {
        "id": "2ebPsz_78aGK",
        "colab_type": "code",
        "outputId": "702b92c8-ef23-40b0-e6b0-5ab31871f5a7",
        "colab": {
          "base_uri": "https://localhost:8080/",
          "height": 122
        }
      },
      "source": [
        "from google.colab import drive \n",
        "drive.mount('/content/gdrive')"
      ],
      "execution_count": 0,
      "outputs": [
        {
          "output_type": "stream",
          "text": [
            "Go to this URL in a browser: https://accounts.google.com/o/oauth2/auth?client_id=947318989803-6bn6qk8qdgf4n4g3pfee6491hc0brc4i.apps.googleusercontent.com&redirect_uri=urn%3aietf%3awg%3aoauth%3a2.0%3aoob&response_type=code&scope=email%20https%3a%2f%2fwww.googleapis.com%2fauth%2fdocs.test%20https%3a%2f%2fwww.googleapis.com%2fauth%2fdrive%20https%3a%2f%2fwww.googleapis.com%2fauth%2fdrive.photos.readonly%20https%3a%2f%2fwww.googleapis.com%2fauth%2fpeopleapi.readonly\n",
            "\n",
            "Enter your authorization code:\n",
            "··········\n",
            "Mounted at /content/gdrive\n"
          ],
          "name": "stdout"
        }
      ]
    },
    {
      "cell_type": "code",
      "metadata": {
        "id": "tr44hQsMQUpP",
        "colab_type": "code",
        "colab": {}
      },
      "source": [
        "def read_audio(audio_directory,audio_file):\n",
        "  global sampling_rate\n",
        "  audio,sampling_rate = librosa.load(audio_directory+audio_file)\n",
        "  return (audio,sampling_rate)\n",
        "\n",
        "def volume_aug(audio):\n",
        "  factor_list = [0.5,1,1.5,2]\n",
        "  factor = factor_list[np.random.randint(0,4)]\n",
        "  augmented_samples = audio * factor\n",
        "  return augmented_samples\n",
        "\n",
        "def bg_noise_aug(audio,bg_noise):\n",
        "  length = len(audio)\n",
        "  rand_start = np.random.randint(0,len(bg_noise)- length)\n",
        "  augmented_audio = audio + bg_noise[rand_start:rand_start + length]\n",
        "  return augmented_audio\n",
        "\n",
        "def melspectrogram(audio):  #no of mels means no of mel filters\n",
        "    #samples, sampling_rate = librosa.core.load(directory + audio_file)   #loading data set\n",
        "    samples = audio\n",
        "    frame_size = 0.025\n",
        "    frame_stride = frame_size * 0.7\n",
        "    no_of_mels = 128\n",
        "    frame_length, frame_step = frame_size * sampling_rate, frame_stride * sampling_rate  \n",
        "    frame_length = int(round(frame_length))\n",
        "    frame_step = int(round(frame_step))\n",
        "    samples_length = len(samples)\n",
        "    num_frames = int(np.ceil(float(np.abs(samples_length - frame_length)) / frame_step))\n",
        "\n",
        "    pad_samples_length = num_frames * frame_step + frame_length\n",
        "    z = np.zeros((pad_samples_length - samples_length))\n",
        "    pad_samples = np.append(samples, z)  #zero padding\n",
        "       \n",
        "    spect_samples = np.abs(librosa.stft(pad_samples, n_fft=frame_length, hop_length=frame_step, window=np.hamming(frame_length))) #calculating stft \n",
        "    spect_samples = librosa.amplitude_to_db(spect_samples, ref=np.max)\n",
        "    mel_filter = librosa.filters.mel(sampling_rate, frame_length, n_mels=128, fmin=0, fmax=None)  #calculating mel filter array\n",
        "    \n",
        "    mel_spect_samples = np.dot(mel_filter, spect_samples)   #calculating mel spectrogram\n",
        "    spectrum = mel_spect_samples.ravel().reshape(128,287,1)\n",
        "    #spectrum = mel_spect_samples\n",
        "    return spectrum"
      ],
      "execution_count": 0,
      "outputs": []
    },
    {
      "cell_type": "code",
      "metadata": {
        "id": "C-cMnhpfoNkV",
        "colab_type": "code",
        "colab": {}
      },
      "source": [
        "cough_audio = np.load('gdrive/My Drive/Cough Detection/Numpy Arrays/cough_audio.npy').tolist()\n",
        "cough_audio = [np.array(xi) for xi in cough_audio]\n",
        "\n",
        "station_audio = np.load('gdrive/My Drive/Cough Detection/Numpy Arrays/station_audio.npy').tolist()\n",
        "station_audio = [np.array(xi) for xi in station_audio]\n",
        "\n",
        "neighbor_audio = np.load('gdrive/My Drive/Cough Detection/Numpy Arrays/neighbor_audio.npy').tolist()\n",
        "neighbor_audio = [np.array(xi) for xi in neighbor_audio]\n",
        "\n",
        "metro_audio = np.load('gdrive/My Drive/Cough Detection/Numpy Arrays/metro_audio.npy').tolist()\n",
        "metro_audio = [np.array(xi) for xi in metro_audio]\n",
        "\n",
        "laugh_audio = np.load('gdrive/My Drive/Cough Detection/Numpy Arrays/laugh_audio.npy').tolist()\n",
        "laugh_audio = [np.array(xi) for xi in laugh_audio]\n",
        "\n",
        "hall_audio = np.load('gdrive/My Drive/Cough Detection/Numpy Arrays/hall_audio.npy').tolist()\n",
        "hall_audio = [np.array(xi) for xi in hall_audio]\n",
        "\n",
        "footstep_audio = np.load('gdrive/My Drive/Cough Detection/Numpy Arrays/footstep_audio.npy').tolist()\n",
        "footstep_audio = [np.array(xi) for xi in footstep_audio]\n",
        "\n",
        "airport_audio = np.load('gdrive/My Drive/Cough Detection/Numpy Arrays/airport_audio.npy').tolist()\n",
        "airport_audio = [np.array(xi) for xi in airport_audio]\n",
        "\n",
        "sneezing_audio = np.load('gdrive/My Drive/Cough Detection/Numpy Arrays/sneezing_audio.npy').tolist()\n",
        "sneezing_audio = [np.array(xi) for xi in sneezing_audio]\n",
        "\n",
        "snoring_audio = np.load('gdrive/My Drive/Cough Detection/Numpy Arrays/snoring_audio.npy').tolist()\n",
        "snoring_audio = [np.array(xi) for xi in snoring_audio]\n",
        "\n",
        "breathe_audio = np.load('gdrive/My Drive/Cough Detection/Numpy Arrays/breathe_audio.npy').tolist()\n",
        "breathe_audio = [np.array(xi) for xi in breathe_audio]\n",
        "\n",
        "crying_audio = np.load('gdrive/My Drive/Cough Detection/Numpy Arrays/crying_audio.npy').tolist()\n",
        "crying_audio = [np.array(xi) for xi in crying_audio]\n",
        "\n",
        "cough_audio_train = np.load('gdrive/My Drive/Cough Detection/Numpy Arrays/cough_audio_train.npy').tolist()\n",
        "cough_audio_train = [np.array(xi) for xi in cough_audio_train]"
      ],
      "execution_count": 0,
      "outputs": []
    },
    {
      "cell_type": "code",
      "metadata": {
        "id": "IpT9ZAQzcWIU",
        "colab_type": "code",
        "colab": {}
      },
      "source": [
        "non_cough_audio = station_audio + neighbor_audio + laugh_audio + hall_audio + footstep_audio + airport_audio + sneezing_audio + snoring_audio + crying_audio\n",
        "test_non_cough_audio = breathe_audio + metro_audio"
      ],
      "execution_count": 0,
      "outputs": []
    },
    {
      "cell_type": "code",
      "metadata": {
        "id": "1wAc65FDdquC",
        "colab_type": "code",
        "colab": {}
      },
      "source": [
        "bg_noise_dir = ['Station.wav','NeighbourSpeaking.wav','Metro.wav','Hallway.wav','FootSteps.wav','AirportAnnouncements.wav']\n",
        "audio_directory = 'gdrive/My Drive/Cough Detection/Sounds/Background Noise/'\n",
        "bg_noise_list = []\n",
        "for noise in range(len(bg_noise_dir)):\n",
        "  audio_file = bg_noise_dir[noise]\n",
        "  noise_add = read_audio(audio_directory,audio_file)[0]\n",
        "  bg_noise_list.append(noise_add)\n"
      ],
      "execution_count": 0,
      "outputs": []
    },
    {
      "cell_type": "code",
      "metadata": {
        "id": "hs52ZIAsZqdq",
        "colab_type": "code",
        "colab": {}
      },
      "source": [
        "train_val_cough = []\n",
        "test_cough = []\n",
        "\n",
        "random.shuffle(cough_audio)\n",
        "test_cough += cough_audio[:25]\n",
        "train_val_cough += cough_audio[25:]\n",
        "\n",
        "random.shuffle(cough_audio_train)\n",
        "test_cough += cough_audio_train[:68]\n",
        "train_val_cough += cough_audio_train[68:]"
      ],
      "execution_count": 0,
      "outputs": []
    },
    {
      "cell_type": "code",
      "metadata": {
        "id": "0NHAC1wXhYsK",
        "colab_type": "code",
        "colab": {}
      },
      "source": [
        "random.shuffle(train_val_cough)\n",
        "train_cough,val_cough = train_val_cough[:int(len(train_val_cough)*0.8)], train_val_cough[int(len(train_val_cough)*0.8):]\n",
        "\n",
        "random.shuffle(non_cough_audio)\n",
        "train_non_cough,val_non_cough = non_cough_audio[:int(len(non_cough_audio)*0.8)], non_cough_audio[int(len(non_cough_audio)*0.8):]\n",
        "\n",
        "train_files = [train_non_cough, train_cough]\n",
        "val_files = [val_non_cough, val_cough]"
      ],
      "execution_count": 0,
      "outputs": []
    },
    {
      "cell_type": "markdown",
      "metadata": {
        "id": "TCyCUrbIGAmr",
        "colab_type": "text"
      },
      "source": [
        "**For the arrays with augmentation model.fit_generator() function**"
      ]
    },
    {
      "cell_type": "code",
      "metadata": {
        "id": "tEbDMeXQ70LN",
        "colab_type": "code",
        "outputId": "1085799e-5ef8-4a5c-9211-6b1e391eea7b",
        "colab": {
          "base_uri": "https://localhost:8080/",
          "height": 1000
        }
      },
      "source": [
        "def generator(batch_size, is_train):\n",
        "  if is_train:\n",
        "    audio = train_files\n",
        "  else:\n",
        "    audio = val_files\n",
        "\n",
        "  while True:\n",
        "    batch_features = np.zeros((batch_size,128,287,1))\n",
        "    batch_labels = np.zeros((batch_size,1))\n",
        "    rand_list = [[],[]]\n",
        "    for n in range(batch_size):\n",
        "      while True:\n",
        "        label = np.random.randint(0,2)\n",
        "        rand_num = random.randrange(len(audio[label]))\n",
        "        if rand_num not in rand_list[label]:\n",
        "          rand_list[label].append(rand_num)\n",
        "          selected_audio = audio[label][rand_num]\n",
        "          volume_aug_audio = volume_aug(selected_audio)\n",
        "          rand_noise = random.randrange(len(bg_noise_list))\n",
        "          bg_noise = bg_noise_list[rand_noise]\n",
        "          bg_noise_added = bg_noise_aug(volume_aug_audio,bg_noise)\n",
        "          spectrum = melspectrogram(bg_noise_added)\n",
        "          batch_features[n] = spectrum\n",
        "          batch_labels[n] = label\n",
        "          break\n",
        "\n",
        "    yield batch_features,batch_labels\n",
        "\n",
        "#Callbacks\n",
        "trained_model_path = 'gdrive/My Drive/Cough Detection/Pre trained Models/model-github.h5'\n",
        "checkpoint = ModelCheckpoint(trained_model_path, \n",
        "                             monitor='val_accuracy', \n",
        "                             save_best_only=True, \n",
        "                             mode='max', \n",
        "                             period=1)\n",
        "\n",
        "early_stop = EarlyStopping(monitor='val_accuracy', \n",
        "                           min_delta=0.001, \n",
        "                           patience=30, \n",
        "                           mode='max',\n",
        "                           restore_best_weights=False)\n",
        "\n",
        "def exp_decay(Epoch,learning_rate):\n",
        "  decay = 0.1\n",
        "  lrate = learning_rate * math.exp(-decay * Epoch)\n",
        "  return lrate\n",
        "\n",
        "lr_scheduler = LearningRateScheduler(exp_decay)\n",
        "\n",
        "#Model \n",
        "\n",
        "shape = (128,287,1)\n",
        "model = Sequential()\n",
        "\n",
        "#Layer 1 \n",
        "model.add(MaxPooling2D(pool_size=(2,2),input_shape=shape,name='MaxPooling2D_1'))\n",
        "model.add(Conv2D(32, kernel_size=(5,5),padding='same'))\n",
        "model.add(BatchNormalization())\n",
        "model.add(LeakyReLU(alpha=0.1))\n",
        "model.add(MaxPooling2D(pool_size=(4,4)))\n",
        "\n",
        "#Layer 2\n",
        "model.add(Conv2D(64, kernel_size=(5,5),padding='same',name='Conv2D_2'))\n",
        "model.add(BatchNormalization())\n",
        "model.add(LeakyReLU(alpha=0.1))\n",
        "model.add(MaxPooling2D(pool_size=(2,2),name='MaxPooling2D_3'))\n",
        "\n",
        "model.add(Flatten(name = 'Flatten'))\n",
        "\n",
        "#Layer 3\n",
        "model.add(Dense(256,name = 'Dense_1'))\n",
        "model.add(BatchNormalization(name = 'BatchNormalization_2'))\n",
        "model.add(LeakyReLU(alpha=0.1))\n",
        "model.add(Dropout(0.5,name = 'Dropout_1'))\n",
        "\n",
        "#Layer 4\n",
        "model.add(Dense(128,name = 'Dense_2'))\n",
        "model.add(BatchNormalization(name = 'BatchNormalization_3'))\n",
        "model.add(LeakyReLU(alpha=0.1))\n",
        "#model.add(Dropout(0.5,name = 'Dropout_2'))\n",
        "\n",
        "#Layer 5\n",
        "model.add(Dense(128,name = 'Dense_3'))\n",
        "model.add(BatchNormalization(name = 'BatchNormalization_4'))\n",
        "model.add(LeakyReLU(alpha=0.1))\n",
        "#model.add(Dropout(0.5,name = 'Dropout_3'))\n",
        "\n",
        "model.add(Dense(1,activation='sigmoid',name = 'Dense_4'))\n",
        "\n",
        "adam = keras.optimizers.Adam(learning_rate = 1e-3, beta_1=0.9, beta_2=0.999, amsgrad=False)\n",
        "\n",
        "model.compile(optimizer= adam, loss='binary_crossentropy', metrics=['accuracy'])\n",
        "batch_size = 12\n",
        "history = model.fit_generator(generator(batch_size,True), epochs=150,steps_per_epoch=50, validation_data=generator(batch_size,False),validation_steps=12,callbacks = [checkpoint,lr_scheduler,early_stop])"
      ],
      "execution_count": 0,
      "outputs": [
        {
          "output_type": "stream",
          "text": [
            "Epoch 1/150\n",
            "50/50 [==============================] - 16s 328ms/step - loss: 0.4667 - accuracy: 0.7817 - val_loss: 1.2078 - val_accuracy: 0.4861\n",
            "Epoch 2/150\n",
            "50/50 [==============================] - 10s 193ms/step - loss: 0.3288 - accuracy: 0.8533 - val_loss: 1.5769 - val_accuracy: 0.4792\n",
            "Epoch 3/150\n",
            "50/50 [==============================] - 10s 204ms/step - loss: 0.2454 - accuracy: 0.9033 - val_loss: 5.6876 - val_accuracy: 0.5278\n",
            "Epoch 4/150\n",
            "50/50 [==============================] - 10s 199ms/step - loss: 0.2536 - accuracy: 0.9017 - val_loss: 1.3190 - val_accuracy: 0.4653\n",
            "Epoch 5/150\n",
            "50/50 [==============================] - 10s 203ms/step - loss: 0.1978 - accuracy: 0.9250 - val_loss: 4.2986 - val_accuracy: 0.4861\n",
            "Epoch 6/150\n",
            "50/50 [==============================] - 10s 204ms/step - loss: 0.2055 - accuracy: 0.9233 - val_loss: 4.1239 - val_accuracy: 0.4861\n",
            "Epoch 7/150\n",
            "50/50 [==============================] - 10s 201ms/step - loss: 0.1627 - accuracy: 0.9367 - val_loss: 3.2792 - val_accuracy: 0.5208\n",
            "Epoch 8/150\n",
            "50/50 [==============================] - 10s 208ms/step - loss: 0.1615 - accuracy: 0.9433 - val_loss: 2.3220 - val_accuracy: 0.5347\n",
            "Epoch 9/150\n",
            "50/50 [==============================] - 11s 213ms/step - loss: 0.1539 - accuracy: 0.9433 - val_loss: 1.5527 - val_accuracy: 0.4653\n",
            "Epoch 10/150\n",
            "50/50 [==============================] - 10s 197ms/step - loss: 0.1513 - accuracy: 0.9517 - val_loss: 0.5219 - val_accuracy: 0.5903\n",
            "Epoch 11/150\n",
            "50/50 [==============================] - 10s 201ms/step - loss: 0.1464 - accuracy: 0.9500 - val_loss: 0.8112 - val_accuracy: 0.7639\n",
            "Epoch 12/150\n",
            "50/50 [==============================] - 10s 201ms/step - loss: 0.1716 - accuracy: 0.9383 - val_loss: 0.2795 - val_accuracy: 0.8403\n",
            "Epoch 13/150\n",
            "50/50 [==============================] - 10s 206ms/step - loss: 0.1552 - accuracy: 0.9417 - val_loss: 0.0132 - val_accuracy: 0.9653\n",
            "Epoch 14/150\n",
            "50/50 [==============================] - 10s 196ms/step - loss: 0.1819 - accuracy: 0.9350 - val_loss: 0.2056 - val_accuracy: 0.9097\n",
            "Epoch 15/150\n",
            "50/50 [==============================] - 10s 206ms/step - loss: 0.1486 - accuracy: 0.9417 - val_loss: 0.2093 - val_accuracy: 0.9236\n",
            "Epoch 16/150\n",
            "50/50 [==============================] - 10s 202ms/step - loss: 0.1988 - accuracy: 0.9167 - val_loss: 0.0997 - val_accuracy: 0.9167\n",
            "Epoch 17/150\n",
            "50/50 [==============================] - 10s 196ms/step - loss: 0.2055 - accuracy: 0.9367 - val_loss: 0.0281 - val_accuracy: 0.9375\n",
            "Epoch 18/150\n",
            "50/50 [==============================] - 10s 202ms/step - loss: 0.1927 - accuracy: 0.9283 - val_loss: 0.1322 - val_accuracy: 0.9097\n",
            "Epoch 19/150\n",
            "50/50 [==============================] - 10s 200ms/step - loss: 0.1310 - accuracy: 0.9533 - val_loss: 0.2321 - val_accuracy: 0.9375\n",
            "Epoch 20/150\n",
            "50/50 [==============================] - 10s 204ms/step - loss: 0.1731 - accuracy: 0.9283 - val_loss: 0.3718 - val_accuracy: 0.9306\n",
            "Epoch 21/150\n",
            "50/50 [==============================] - 10s 206ms/step - loss: 0.1328 - accuracy: 0.9517 - val_loss: 0.0465 - val_accuracy: 0.9306\n",
            "Epoch 22/150\n",
            "50/50 [==============================] - 10s 200ms/step - loss: 0.1532 - accuracy: 0.9383 - val_loss: 0.4581 - val_accuracy: 0.9514\n",
            "Epoch 23/150\n",
            "50/50 [==============================] - 10s 203ms/step - loss: 0.1245 - accuracy: 0.9517 - val_loss: 0.1824 - val_accuracy: 0.9028\n",
            "Epoch 24/150\n",
            "50/50 [==============================] - 10s 200ms/step - loss: 0.1533 - accuracy: 0.9483 - val_loss: 0.0216 - val_accuracy: 0.9583\n",
            "Epoch 25/150\n",
            "50/50 [==============================] - 10s 202ms/step - loss: 0.1769 - accuracy: 0.9450 - val_loss: 0.2346 - val_accuracy: 0.9514\n",
            "Epoch 26/150\n",
            "50/50 [==============================] - 10s 199ms/step - loss: 0.1330 - accuracy: 0.9517 - val_loss: 0.2478 - val_accuracy: 0.9097\n",
            "Epoch 27/150\n",
            "50/50 [==============================] - 10s 201ms/step - loss: 0.2017 - accuracy: 0.9150 - val_loss: 0.1231 - val_accuracy: 0.9375\n",
            "Epoch 28/150\n",
            "50/50 [==============================] - 10s 200ms/step - loss: 0.1531 - accuracy: 0.9367 - val_loss: 0.0394 - val_accuracy: 0.9653\n",
            "Epoch 29/150\n",
            "50/50 [==============================] - 10s 205ms/step - loss: 0.1856 - accuracy: 0.9367 - val_loss: 0.4097 - val_accuracy: 0.9167\n",
            "Epoch 30/150\n",
            "50/50 [==============================] - 10s 201ms/step - loss: 0.2035 - accuracy: 0.9250 - val_loss: 0.1551 - val_accuracy: 0.8819\n",
            "Epoch 31/150\n",
            "50/50 [==============================] - 10s 204ms/step - loss: 0.1964 - accuracy: 0.9250 - val_loss: 0.1454 - val_accuracy: 0.9306\n",
            "Epoch 32/150\n",
            "50/50 [==============================] - 10s 203ms/step - loss: 0.1517 - accuracy: 0.9383 - val_loss: 0.0432 - val_accuracy: 0.9722\n",
            "Epoch 33/150\n",
            "50/50 [==============================] - 10s 201ms/step - loss: 0.1749 - accuracy: 0.9333 - val_loss: 0.1033 - val_accuracy: 0.9306\n",
            "Epoch 34/150\n",
            "50/50 [==============================] - 10s 199ms/step - loss: 0.1584 - accuracy: 0.9433 - val_loss: 0.1508 - val_accuracy: 0.9375\n",
            "Epoch 35/150\n",
            "50/50 [==============================] - 10s 202ms/step - loss: 0.1801 - accuracy: 0.9233 - val_loss: 0.0260 - val_accuracy: 0.9722\n",
            "Epoch 36/150\n",
            "50/50 [==============================] - 10s 204ms/step - loss: 0.1343 - accuracy: 0.9467 - val_loss: 0.1536 - val_accuracy: 0.9236\n",
            "Epoch 37/150\n",
            "50/50 [==============================] - 10s 199ms/step - loss: 0.1494 - accuracy: 0.9550 - val_loss: 0.4421 - val_accuracy: 0.9306\n",
            "Epoch 38/150\n",
            "50/50 [==============================] - 10s 201ms/step - loss: 0.1569 - accuracy: 0.9417 - val_loss: 0.0602 - val_accuracy: 0.9444\n",
            "Epoch 39/150\n",
            "50/50 [==============================] - 10s 201ms/step - loss: 0.1446 - accuracy: 0.9433 - val_loss: 0.0656 - val_accuracy: 0.9444\n",
            "Epoch 40/150\n",
            "50/50 [==============================] - 10s 203ms/step - loss: 0.1706 - accuracy: 0.9433 - val_loss: 0.0304 - val_accuracy: 0.9583\n",
            "Epoch 41/150\n",
            "50/50 [==============================] - 10s 205ms/step - loss: 0.1412 - accuracy: 0.9533 - val_loss: 0.0149 - val_accuracy: 0.9375\n",
            "Epoch 42/150\n",
            "50/50 [==============================] - 10s 200ms/step - loss: 0.1467 - accuracy: 0.9450 - val_loss: 0.0128 - val_accuracy: 0.9444\n",
            "Epoch 43/150\n",
            "50/50 [==============================] - 10s 204ms/step - loss: 0.1638 - accuracy: 0.9367 - val_loss: 0.3101 - val_accuracy: 0.9514\n",
            "Epoch 44/150\n",
            "50/50 [==============================] - 10s 202ms/step - loss: 0.1669 - accuracy: 0.9367 - val_loss: 0.1342 - val_accuracy: 0.9097\n",
            "Epoch 45/150\n",
            "50/50 [==============================] - 10s 199ms/step - loss: 0.1687 - accuracy: 0.9417 - val_loss: 0.1537 - val_accuracy: 0.9375\n",
            "Epoch 46/150\n",
            "50/50 [==============================] - 10s 200ms/step - loss: 0.1920 - accuracy: 0.9367 - val_loss: 0.0600 - val_accuracy: 0.9375\n",
            "Epoch 47/150\n",
            "50/50 [==============================] - 10s 199ms/step - loss: 0.1332 - accuracy: 0.9533 - val_loss: 0.2067 - val_accuracy: 0.9375\n",
            "Epoch 48/150\n",
            "50/50 [==============================] - 10s 203ms/step - loss: 0.1138 - accuracy: 0.9667 - val_loss: 0.0561 - val_accuracy: 0.9028\n",
            "Epoch 49/150\n",
            "50/50 [==============================] - 10s 199ms/step - loss: 0.1463 - accuracy: 0.9450 - val_loss: 0.0971 - val_accuracy: 0.9236\n",
            "Epoch 50/150\n",
            "50/50 [==============================] - 10s 203ms/step - loss: 0.1856 - accuracy: 0.9317 - val_loss: 0.2551 - val_accuracy: 0.9236\n",
            "Epoch 51/150\n",
            "50/50 [==============================] - 10s 202ms/step - loss: 0.1226 - accuracy: 0.9683 - val_loss: 0.0620 - val_accuracy: 0.9792\n",
            "Epoch 52/150\n",
            "50/50 [==============================] - 10s 197ms/step - loss: 0.1691 - accuracy: 0.9417 - val_loss: 0.1060 - val_accuracy: 0.9653\n",
            "Epoch 53/150\n",
            "50/50 [==============================] - 10s 203ms/step - loss: 0.1752 - accuracy: 0.9367 - val_loss: 0.0704 - val_accuracy: 0.9583\n",
            "Epoch 54/150\n",
            "50/50 [==============================] - 10s 199ms/step - loss: 0.1508 - accuracy: 0.9483 - val_loss: 0.0665 - val_accuracy: 0.9514\n",
            "Epoch 55/150\n",
            "50/50 [==============================] - 10s 199ms/step - loss: 0.1545 - accuracy: 0.9350 - val_loss: 0.0457 - val_accuracy: 0.9514\n",
            "Epoch 56/150\n",
            "50/50 [==============================] - 10s 207ms/step - loss: 0.1749 - accuracy: 0.9367 - val_loss: 0.3751 - val_accuracy: 0.9306\n",
            "Epoch 57/150\n",
            "50/50 [==============================] - 10s 202ms/step - loss: 0.1782 - accuracy: 0.9383 - val_loss: 0.0301 - val_accuracy: 0.9444\n",
            "Epoch 58/150\n",
            "50/50 [==============================] - 10s 201ms/step - loss: 0.1833 - accuracy: 0.9267 - val_loss: 0.1007 - val_accuracy: 0.9514\n",
            "Epoch 59/150\n",
            "50/50 [==============================] - 10s 196ms/step - loss: 0.1845 - accuracy: 0.9283 - val_loss: 0.2722 - val_accuracy: 0.9514\n",
            "Epoch 60/150\n",
            "50/50 [==============================] - 10s 197ms/step - loss: 0.2003 - accuracy: 0.9183 - val_loss: 0.2655 - val_accuracy: 0.9236\n",
            "Epoch 61/150\n",
            "50/50 [==============================] - 10s 200ms/step - loss: 0.1694 - accuracy: 0.9367 - val_loss: 0.0862 - val_accuracy: 0.9306\n",
            "Epoch 62/150\n",
            "50/50 [==============================] - 10s 200ms/step - loss: 0.1853 - accuracy: 0.9333 - val_loss: 0.0246 - val_accuracy: 0.9306\n",
            "Epoch 63/150\n",
            "50/50 [==============================] - 10s 202ms/step - loss: 0.1660 - accuracy: 0.9367 - val_loss: 0.1097 - val_accuracy: 0.9375\n",
            "Epoch 64/150\n",
            "50/50 [==============================] - 10s 205ms/step - loss: 0.1582 - accuracy: 0.9417 - val_loss: 0.0537 - val_accuracy: 0.9653\n",
            "Epoch 65/150\n",
            "50/50 [==============================] - 10s 204ms/step - loss: 0.1503 - accuracy: 0.9350 - val_loss: 0.3282 - val_accuracy: 0.9236\n",
            "Epoch 66/150\n",
            "50/50 [==============================] - 10s 202ms/step - loss: 0.1860 - accuracy: 0.9267 - val_loss: 0.1081 - val_accuracy: 0.9306\n",
            "Epoch 67/150\n",
            "50/50 [==============================] - 10s 204ms/step - loss: 0.1410 - accuracy: 0.9500 - val_loss: 0.3434 - val_accuracy: 0.9444\n",
            "Epoch 68/150\n",
            "50/50 [==============================] - 10s 202ms/step - loss: 0.2065 - accuracy: 0.9133 - val_loss: 0.0165 - val_accuracy: 0.9236\n",
            "Epoch 69/150\n",
            "50/50 [==============================] - 10s 201ms/step - loss: 0.1624 - accuracy: 0.9417 - val_loss: 0.0660 - val_accuracy: 0.9514\n",
            "Epoch 70/150\n",
            "50/50 [==============================] - 10s 200ms/step - loss: 0.1251 - accuracy: 0.9583 - val_loss: 0.0234 - val_accuracy: 0.9236\n",
            "Epoch 71/150\n",
            "50/50 [==============================] - 10s 201ms/step - loss: 0.1512 - accuracy: 0.9450 - val_loss: 0.3119 - val_accuracy: 0.9583\n",
            "Epoch 72/150\n",
            "50/50 [==============================] - 10s 203ms/step - loss: 0.1269 - accuracy: 0.9550 - val_loss: 0.2227 - val_accuracy: 0.9375\n",
            "Epoch 73/150\n",
            "50/50 [==============================] - 10s 203ms/step - loss: 0.1675 - accuracy: 0.9383 - val_loss: 0.0130 - val_accuracy: 0.9306\n",
            "Epoch 74/150\n",
            "50/50 [==============================] - 10s 203ms/step - loss: 0.2080 - accuracy: 0.9267 - val_loss: 0.0150 - val_accuracy: 0.9514\n",
            "Epoch 75/150\n",
            "50/50 [==============================] - 10s 202ms/step - loss: 0.1577 - accuracy: 0.9383 - val_loss: 0.3221 - val_accuracy: 0.9792\n",
            "Epoch 76/150\n",
            "50/50 [==============================] - 10s 207ms/step - loss: 0.2100 - accuracy: 0.9133 - val_loss: 0.1964 - val_accuracy: 0.9514\n",
            "Epoch 77/150\n",
            "50/50 [==============================] - 10s 200ms/step - loss: 0.1748 - accuracy: 0.9350 - val_loss: 0.0155 - val_accuracy: 0.9583\n",
            "Epoch 78/150\n",
            "50/50 [==============================] - 10s 199ms/step - loss: 0.1540 - accuracy: 0.9383 - val_loss: 0.1728 - val_accuracy: 0.9514\n",
            "Epoch 79/150\n",
            "50/50 [==============================] - 10s 206ms/step - loss: 0.1339 - accuracy: 0.9533 - val_loss: 0.0683 - val_accuracy: 0.9306\n",
            "Epoch 80/150\n",
            "50/50 [==============================] - 10s 201ms/step - loss: 0.1551 - accuracy: 0.9517 - val_loss: 0.2195 - val_accuracy: 0.9514\n",
            "Epoch 81/150\n",
            "50/50 [==============================] - 10s 201ms/step - loss: 0.1720 - accuracy: 0.9317 - val_loss: 0.5339 - val_accuracy: 0.9236\n"
          ],
          "name": "stdout"
        }
      ]
    },
    {
      "cell_type": "code",
      "metadata": {
        "id": "ZZFHLQt8LZIV",
        "colab_type": "code",
        "outputId": "ca3dd36b-75eb-469d-b550-1e8b5222f626",
        "colab": {
          "base_uri": "https://localhost:8080/",
          "height": 295
        }
      },
      "source": [
        "fig ,ax = plt.subplots()\n",
        "ax.plot(history.history['accuracy'])\n",
        "ax.plot(history.history['val_accuracy'])\n",
        "plt.title('Model accuracy')\n",
        "plt.ylabel('Accuracy')\n",
        "plt.xlabel('Epoch')\n",
        "plt.legend(['Train', 'Val'], loc='upper left')\n",
        "plt.show()"
      ],
      "execution_count": 0,
      "outputs": [
        {
          "output_type": "display_data",
          "data": {
            "image/png": "[encoded data removed]",
            "text/plain": [
              "<Figure size 432x288 with 1 Axes>"
            ]
          },
          "metadata": {
            "tags": [],
            "needs_background": "light"
          }
        }
      ]
    },
    {
      "cell_type": "code",
      "metadata": {
        "id": "xjESisUMUFyu",
        "colab_type": "code",
        "outputId": "33996f94-0b7c-4cf3-df45-4d52e9338b37",
        "colab": {
          "base_uri": "https://localhost:8080/",
          "height": 295
        }
      },
      "source": [
        "fig ,ax = plt.subplots()\n",
        "plt.plot(history.history['loss'])\n",
        "plt.plot(history.history['val_loss'])\n",
        "plt.title('Model loss')\n",
        "plt.ylabel('Loss')\n",
        "plt.xlabel('Epoch')\n",
        "plt.legend(['Train', 'Val'], loc='upper left')\n",
        "plt.show()"
      ],
      "execution_count": 0,
      "outputs": [
        {
          "output_type": "display_data",
          "data": {
            "image/png": "[encoded data removed]",
            "text/plain": [
              "<Figure size 432x288 with 1 Axes>"
            ]
          },
          "metadata": {
            "tags": [],
            "needs_background": "light"
          }
        }
      ]
    },
    {
      "cell_type": "code",
      "metadata": {
        "id": "uVpEjMO3zgxO",
        "colab_type": "code",
        "colab": {}
      },
      "source": [
        "#Prepare the test data\n",
        "random.shuffle(test_non_cough_audio)\n",
        "test_non_cough = test_non_cough_audio\n",
        "\n",
        "random.shuffle(test_cough)\n",
        "\n",
        "test_data= [test_non_cough,test_cough]"
      ],
      "execution_count": 0,
      "outputs": []
    },
    {
      "cell_type": "code",
      "metadata": {
        "id": "fNwQEGIPryDB",
        "colab_type": "code",
        "outputId": "14772ce9-40f2-4e3c-d120-23cb65f595b5",
        "colab": {
          "base_uri": "https://localhost:8080/",
          "height": 272
        }
      },
      "source": [
        "test_model = load_model('gdrive/My Drive/Cough Detection/Pre trained Models/model-github.h5')\n",
        "\n",
        "n_input = len(test_data[1]) + len(test_data[0])\n",
        "model_data = np.zeros((n_input,128,287,1))\n",
        "model_label = np.zeros((n_input,1))\n",
        "data_list = [[],[]]\n",
        "\n",
        "for i in range(n_input):\n",
        "  while True:\n",
        "    label = np.random.randint(0,2)\n",
        "    rand_num = random.randrange(len(test_data[label]))\n",
        "    if rand_num not in data_list[label]:\n",
        "      data_list[label].append(rand_num)\n",
        "      selected_audio = test_data[label][rand_num]\n",
        "      volume_aug_audio = volume_aug(selected_audio)\n",
        "      rand_noise = random.randrange(len(bg_noise_list))\n",
        "      bg_noise = bg_noise_list[rand_noise]\n",
        "      bg_noise_added = bg_noise_aug(volume_aug_audio,bg_noise)\n",
        "      spectrum = melspectrogram(bg_noise_added)\n",
        "      model_data[i] = spectrum\n",
        "      model_label[i] = label\n",
        "      break\n",
        "\n",
        "\n",
        "model.compile(optimizer='adam', loss='binary_crossentropy', metrics=['accuracy'])\n",
        "\n",
        "pred = model.predict(x = model_data,batch_size = n_input)\n",
        "print (model.evaluate(x = model_data, y = model_label,batch_size=n_input))\n",
        "preds = np.array([int(np.round(pred[i])) for i in range(len(pred))])\n",
        "\n",
        "print (confusion_matrix(model_label,preds))\n",
        "print ('\\n')\n",
        "print (classification_report(model_label,preds))"
      ],
      "execution_count": 0,
      "outputs": [
        {
          "output_type": "stream",
          "text": [
            "\r186/186 [==============================] - 0s 805us/step\n",
            "[0.19727760553359985, 0.9247311949729919]\n",
            "[[93  0]\n",
            " [14 79]]\n",
            "\n",
            "\n",
            "              precision    recall  f1-score   support\n",
            "\n",
            "         0.0       0.87      1.00      0.93        93\n",
            "         1.0       1.00      0.85      0.92        93\n",
            "\n",
            "    accuracy                           0.92       186\n",
            "   macro avg       0.93      0.92      0.92       186\n",
            "weighted avg       0.93      0.92      0.92       186\n",
            "\n"
          ],
          "name": "stdout"
        }
      ]
    },
    {
      "cell_type": "code",
      "metadata": {
        "id": "d5vWFgi-ATRy",
        "colab_type": "code",
        "colab": {}
      },
      "source": [
        ""
      ],
      "execution_count": 0,
      "outputs": []
    }
  ]
}